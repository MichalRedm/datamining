{
  "cells": [
    {
      "cell_type": "markdown",
      "metadata": {
        "id": "view-in-github",
        "colab_type": "text"
      },
      "source": [
        "<a href=\"https://colab.research.google.com/github/MichalRedm/datamining/blob/main/dm_intro.ipynb\" target=\"_parent\"><img src=\"https://colab.research.google.com/assets/colab-badge.svg\" alt=\"Open In Colab\"/></a>"
      ]
    },
    {
      "cell_type": "markdown",
      "metadata": {
        "id": "UgUslATFirfr"
      },
      "source": [
        "## Data Mining laboratory - Introduction\n",
        "\n",
        "Welcome to the data mining class. During our meetings, we will be dealing with processing and exploring data with the use of the Python language in the Jupyter Notebook setting. We are also going to use low-code and no-code solutions to the presented problems. Today, we are going to set up our working stations and get familiar with the setup.\n",
        "\n",
        "\n",
        ""
      ]
    },
    {
      "cell_type": "markdown",
      "metadata": {
        "id": "ZcDvn1Smirfs"
      },
      "source": [
        "#### Course assignements\n",
        "\n",
        "This course consists of X notebooks, X homeworks and 3 assignments. In order to get a pass mark, you need to complete all homeworks. You can get a maximum of 4 points for each assignment. Once the assignment is announced you have two weeks to complete it. Each week of delay deducts 1 point from the mark you get. The amount of points you gather during the course will indicate your final grade.\n",
        "\n",
        "| Points| Grade |\n",
        "| --- | --- |\n",
        "| 0| 2.0  |\n",
        "| 6 | 3.0 |\n",
        "| 7.5 | 3.5 |\n",
        "| 9 | 4.0 |\n",
        "| 10.5 | 4.5 |\n",
        "| 11.5 | 5.0 |\n"
      ]
    },
    {
      "cell_type": "markdown",
      "metadata": {
        "id": "dDCoN922irft"
      },
      "source": [
        "\n",
        "### What is the Jupyter Notebook?\n",
        "\n",
        "It's a computing platform that is very commonly used for code presentation, on-hand code execution, as well as preparing code snippets, which later on might be used in a larger library. In this setting you can easily combine Markdown text and executable Python code. This format is very popular in machine learning, data mining and artificial intelligence field in general. A single file in this setting is very often referred to as just a *Notebook*. The file you are viewing right now is a Notebook. Notebook files are usually named with the extension *.ipynb*, which stems from the original open-source project name *IPython Notebook*. The Notebook uses an interactive kernel,  which allows us to maintain the current execution of the code. During the execution, all variables, defined functions, and classes, etc. are stored in the memory, which gives us flexible access to everything we coded (this is nothing new compared to a standard Python interpreter). The Notebooks are delivered to us in several different settings, here are some:\n",
        "  \n",
        "  - **Advanced, modern IDE, which supports Jupyter Notebooks.** In this setting, the IDE is responsible for setting up the interactive kernel with the use of the Python interpreter. A good example of an IDE, which supports the Jupyter Notebooks is Visual Studio Code. Prior to using this option, we need to set up the Python interpreter on the machine.\n",
        "  \n",
        "      **Pros**:\n",
        "\n",
        "         * full customization\n",
        "         * full access to data on hand\n",
        "         * usually supports version control\n",
        "         * easy setup process\n",
        "      **Cons**:\n",
        "      \n",
        "         * you need to set up an IDE on every machine you work on\n",
        "         * requires installation of Python interpreter on the machine\n",
        "\n",
        "\n",
        "  - **A stand-alone Jupyter Notebook server.** This is the original method of delivering the Notebooks. In order to use this setting, one must download and run the Jupyter Server as a separate process on a machine on hand. The Jupyter Notebook server often comes in bundle with complete Python distributions (e.g. WinPython), in that case, the server executable file is usually within the Python folder. The Jupyter Notebook server allows us to access, view and run the notebooks via the web application accessible through a browser. The server allows us to set up the connection details (e.g. the IP address, port, authentication method, password). If you want to use the server in a public network. you need to be very careful while using this option, as it allows an easy access to the Remote Code Execution, which is a substantial vulnerability. Whoever has the access to the *Notebooks* via the server, essentially has the same privileges, as the user, who started the server. Nothing stops us from using the server on the *localhost*. Running the server in a default setting is as simple as running the command:\n",
        "\n",
        "                 jupyter notebook\n",
        "  \n",
        "      Once the server is running, you have access to files and directories, starting with the directory on which, the server was started. Opening the notebook file, switches the application view, so that you can execute the code and read the markdown.\n",
        "      \n",
        "      **Pros**:\n",
        "\n",
        "         * full customization\n",
        "         * access to data on the server machine\n",
        "         * ability to use it in a network setting with many users and a single server\n",
        "      **Cons**:\n",
        "      \n",
        "         * fairly hard setup process (if you want to use it with several users in a network setting)\n",
        "         * if you do not have a server machine, you can only run it in an offline setting\n",
        "         * no native support for version control\n",
        "         * requires installation of Python interpreter on the machine\n",
        "          \n",
        "\n",
        "  - **External Notebook server paired up with virtual machine.** In this setting, we are using a virtual machine with a temporary python environment as the working space. Although we are not forced to maintain the Notebook server, this option comes with several limitations. We are forced to follow the rules of the virtual machine provider. Usually we not permitted to use such a notebook in order to host data, download torrents, use it as an SSH server, connect to the remote proxy, etc. (nothing really related to Data Mining). Such a notebook does not have direct access to our files, we usually need to upload the data on the virtual machine (or a cloud drive) in order to process the data. Other than that, we can consume the Nootebook files as normal. A good example of this setting is Google Colaboratory.\n",
        "\n",
        "      **Pros**:\n",
        "\n",
        "         * access to notebooks on any machine with no setup\n",
        "         * limited customization\n",
        "         * ability to modify and create new Notebooks on hand on any machine\n",
        "         * no need to install any software on the machine (except for a browser)\n",
        "      **Cons**:\n",
        "      \n",
        "         * no support for version control\n",
        "         * restrictions of use\n",
        "         * requires an account (e.g. Google Account)\n",
        "         * limited access to data on hand\n",
        "         * requires uploading the data to an external server (usually limitted space)\n",
        "         * limited customization"
      ]
    },
    {
      "cell_type": "markdown",
      "metadata": {
        "id": "mb_vKO8mirfu"
      },
      "source": [
        "In this course I propose one of the two options - those options are not obligatory, you can use any setup you want:\n",
        " - Visual Studio Code\n",
        " - Google Colaboratory\n"
      ]
    },
    {
      "cell_type": "markdown",
      "metadata": {
        "id": "lxvB8XKuirfu"
      },
      "source": [
        "#### Setting up Visual Studio Code.\n",
        "\n",
        "In the class we will be using the Google Colaboratory service. However, if you want to make your setup at home, or with a personal laptop, you can use the Visual Studio Code setup. Process of setting it up comprised of 2 (pretty obvious) steps:\n",
        " - installing Python interpreter -\n",
        "    - if you are using a Linux machine, it is very likely you already have the Python interpreter installed. If this is not the case, use your default package manager to install python (i.e. `apt install python3` on Debianoids).\n",
        "    - if you are using a Windows machine I suggest using a [WinPython](https://winpython.github.io/) package. It comes with a pre-installed set of libraries.\n",
        "    - you can also use the [default Python installer](https://www.python.org/downloads/).\n",
        " - installing Visual Studio Code - VSC is an multi-platform IDE. You can find it [here](https://code.visualstudio.com/).\n",
        "\n",
        "Once you have everything installed you need to create a space on the computer for this class (we are going to use toy data sets, so you do not need gigabytes of free space). You start by creating a dedicated directory on your hard drive. Download this notebook (.ipynb version, not the html) and paste it into the newly created directory. Then, you open the Visual Studio Code application and from the File menu you choose the Open Directory option. In the file explorer you should be able to see this notebook. Upon the first execution of the code block you will need to choose a Python interpreter, which you have already installed."
      ]
    },
    {
      "cell_type": "markdown",
      "metadata": {
        "id": "SMb8T6ufirfu"
      },
      "source": [
        "#### Using Google Colaboratory\n",
        "\n",
        "Using Google Colab is much easier. You just need to download this notebook, log in to your Google account on the [Colaboratory website](https://colab.research.google.com/). From the File menu use the \"Send notebook\" option. Choose the downloaded file. That's it."
      ]
    },
    {
      "cell_type": "markdown",
      "metadata": {
        "id": "SAe6xAjLirfu"
      },
      "source": [
        "Once you have everything set up, switch from the HTML version of the notebook to the interactive one (either in Colab or in VSC). Starting the next week you will be downloading and opening the notebook at the beginning of each class."
      ]
    },
    {
      "cell_type": "markdown",
      "metadata": {
        "id": "YtVWsq_Zirfv"
      },
      "source": [
        "### How is a Notebook organized?\n",
        "\n",
        "Each Notebook consists of list of cells. There are two types of cells:\n",
        "\n",
        " - **Code cell** - the code cell is filled with the code in the programming language the Notebook is set up for (usually it's Python). You can execute the code and immediately see the result. Everything that *happened* in the execution is available in the next cell you run. Once the code cell is executed, it is annotated with a number, which refers to the order of execution. The first cell you run will be annotated with number [1], second with number [2], etc. The enumeration helps us to keep up with the current status of execution.\n",
        " - **Markdown cell** - the markdown cell allows us to insert a formatted text into the notebook. The text is formatted with use of the [Markdown](https://www.markdownguide.org/) language. The Markdown is a lightweight markup language, which is used to add simple formatting to plaintext documents. It was created in 2004 by John Gruber. It is one of the most popular markup languages. This is the same language you can use for example in the Discord app.\n",
        "\n",
        "\n",
        " Each of the code cells can be executed at any point. In most of the IDEs we are allowed to run all cells at once, restart the interpreter and clear all variables and definitions, add a new cell, and reorder existing the cells.\n",
        "\n",
        "\n",
        " #### Exercise 1.\n",
        "\n",
        " Execute the cells in the following order:\n",
        "   1. Run cell 2\n",
        "   2. Run cell 1\n",
        "   3. Run cell 3\n",
        "   3. Run cell 2\n",
        "   4. Run cell 3\n",
        "   5. Restart the kernel\n",
        "   6. Run cell 1\n",
        "   7. Run cell 2\n",
        "   8. Run cell 3.\n",
        "   9. Run cell 3.\n",
        "\n",
        "Observe the results and make notes. Can we execute the cell 2 immediately, why? How does the annotation change when we run a single cell multiple times? What is the value of the _ expression? You can restart this exercise by restarting the kernel."
      ]
    },
    {
      "cell_type": "markdown",
      "metadata": {
        "id": "eNQyWXdYirfv"
      },
      "source": [
        "Cell 1"
      ]
    },
    {
      "cell_type": "code",
      "execution_count": 1,
      "metadata": {
        "id": "EZkN_nMQirfw"
      },
      "outputs": [],
      "source": [
        "a = 5"
      ]
    },
    {
      "cell_type": "markdown",
      "metadata": {
        "id": "bh6IPBmcirfx"
      },
      "source": [
        "Cell 2"
      ]
    },
    {
      "cell_type": "code",
      "execution_count": 2,
      "metadata": {
        "colab": {
          "base_uri": "https://localhost:8080/"
        },
        "id": "97N4X98Yirfx",
        "outputId": "86063556-c742-4068-f83d-d50beb80b612"
      },
      "outputs": [
        {
          "output_type": "execute_result",
          "data": {
            "text/plain": [
              "7"
            ]
          },
          "metadata": {},
          "execution_count": 2
        }
      ],
      "source": [
        "b = a + 2\n",
        "b"
      ]
    },
    {
      "cell_type": "markdown",
      "metadata": {
        "id": "9hKV4CY3irfx"
      },
      "source": [
        "Cell 3"
      ]
    },
    {
      "cell_type": "code",
      "execution_count": 3,
      "metadata": {
        "colab": {
          "base_uri": "https://localhost:8080/"
        },
        "id": "wJ8ongbFirfx",
        "outputId": "27a419c7-2ce1-4c22-ea79-e1c2652bff90"
      },
      "outputs": [
        {
          "output_type": "execute_result",
          "data": {
            "text/plain": [
              "12"
            ]
          },
          "metadata": {},
          "execution_count": 3
        }
      ],
      "source": [
        "c = a + _\n",
        "c"
      ]
    },
    {
      "cell_type": "markdown",
      "metadata": {
        "id": "9O1Ao8suirfx"
      },
      "source": [
        "#### Exercise 2.\n",
        "\n",
        "Create a new markdown cell directly below this one and use the Markdown language to answer the questions asked in Exercise 1. Use the following features:\n",
        "  - Level 4 heading\n",
        "  - Bullet list\n",
        "  - Bold text\n",
        "\n"
      ]
    },
    {
      "cell_type": "markdown",
      "metadata": {
        "id": "aEHrsrnwirfx"
      },
      "source": [
        "### Cell magic\n",
        "\n",
        "In order to use a package in your Python script you need to import it like this:"
      ]
    },
    {
      "cell_type": "code",
      "execution_count": 4,
      "metadata": {
        "id": "9QIlu3VZirfx"
      },
      "outputs": [],
      "source": [
        "import numpy as np"
      ]
    },
    {
      "cell_type": "markdown",
      "metadata": {
        "id": "YVtY0vKeirfx"
      },
      "source": [
        "But what happens when the package is not installed on the machine? Well. Probably you need open the terminal, type an apropriate command and download the package. This even is more complicated when you have no direct access to the machine. In this case we can use something called [cell magic](https://ipython.readthedocs.io/en/stable/interactive/magics.html). Ususally the *Code cell* is interpreted as a python script. However, we can add a special decorator to change its behaviour. When we add `%%bash` at the beginning of the cell it is going to be executed as if it was a bash terminal. So, in order to install the numpy package (it should be already installed), you can create a cell similar to this one:"
      ]
    },
    {
      "cell_type": "code",
      "execution_count": 5,
      "metadata": {
        "colab": {
          "base_uri": "https://localhost:8080/"
        },
        "id": "tGmZlfYDirfy",
        "outputId": "431d56fd-772a-4448-e055-0171af6de4dd"
      },
      "outputs": [
        {
          "output_type": "stream",
          "name": "stdout",
          "text": [
            "Requirement already satisfied: numpy in /usr/local/lib/python3.10/dist-packages (1.25.2)\n"
          ]
        }
      ],
      "source": [
        "%%bash\n",
        "\n",
        "pip install numpy"
      ]
    },
    {
      "cell_type": "markdown",
      "metadata": {
        "id": "mFU0jK4Airfy"
      },
      "source": [
        "`%%bash` is not the only magical command out there. Sometimes we will compare time of executions of different code variants. In this case we can use the `%%time` or `%%timeit` magic."
      ]
    },
    {
      "cell_type": "code",
      "execution_count": 6,
      "metadata": {
        "id": "pFUj-tCEirfy"
      },
      "outputs": [],
      "source": [
        "import numpy as np"
      ]
    },
    {
      "cell_type": "code",
      "execution_count": 7,
      "metadata": {
        "colab": {
          "base_uri": "https://localhost:8080/"
        },
        "id": "51QfGofUirfy",
        "outputId": "1ebbef10-a4da-4945-9443-316cf6fb33b7"
      },
      "outputs": [
        {
          "output_type": "stream",
          "name": "stdout",
          "text": [
            "CPU times: user 56 µs, sys: 0 ns, total: 56 µs\n",
            "Wall time: 60.6 µs\n"
          ]
        }
      ],
      "source": [
        "%%time\n",
        "a = np.zeros((10000,10000))"
      ]
    },
    {
      "cell_type": "code",
      "execution_count": 8,
      "metadata": {
        "colab": {
          "base_uri": "https://localhost:8080/"
        },
        "id": "FwpspBJ-irfy",
        "outputId": "9149e4fb-0ea8-4ae8-d3a3-8d8760e85632"
      },
      "outputs": [
        {
          "output_type": "stream",
          "name": "stdout",
          "text": [
            "CPU times: user 7.84 s, sys: 775 ms, total: 8.62 s\n",
            "Wall time: 10.9 s\n"
          ]
        }
      ],
      "source": [
        "%%time\n",
        "a = [[0 for _ in range(10000)] for _ in range(10000)]\n"
      ]
    },
    {
      "cell_type": "code",
      "execution_count": 9,
      "metadata": {
        "colab": {
          "base_uri": "https://localhost:8080/"
        },
        "id": "ik-qPrzeirfz",
        "outputId": "47c0370d-e1dc-4ed9-8b6e-55db730d08f9"
      },
      "outputs": [
        {
          "output_type": "stream",
          "name": "stdout",
          "text": [
            "609 µs ± 373 µs per loop (mean ± std. dev. of 7 runs, 1000 loops each)\n"
          ]
        }
      ],
      "source": [
        "%%timeit\n",
        "a = np.zeros((1000,1000))"
      ]
    },
    {
      "cell_type": "code",
      "execution_count": null,
      "metadata": {
        "id": "_zQEe7DAirfz"
      },
      "outputs": [],
      "source": [
        "%%timeit\n",
        "a = [[0 for _ in range(1000)] for _ in range(1000)]\n"
      ]
    },
    {
      "cell_type": "markdown",
      "metadata": {
        "id": "nTlPEDDdirfz"
      },
      "source": [
        "A full list of cell magics can be found [here](https://ipython.readthedocs.io/en/stable/interactive/magics.html)."
      ]
    },
    {
      "cell_type": "markdown",
      "metadata": {
        "id": "kBi7-LlZirfz"
      },
      "source": [
        "### Toy data sets\n",
        "\n",
        "During the course we will be using different data sets in order to get familiar with data mining techiques. This section illustrates several techniques of loading up the data sets.\n",
        "\n",
        "#### Scikit-learn package\n",
        "\n",
        "Among various packages we are going to use the scikit-learn package (sklearn). Today we will get familiar with the toy data sets, which the package provides. The package provides 7 different data sets (including boston data set, which is deprecated), among them:\n",
        "\n",
        "- Iris data set - The famous Iris database, first used by Sir R.A. Fisher.\n",
        "- Digits data set - The data set contains images of hand-written digits: 10 classes where each class refers to a digit.\n",
        "- Wine data set - The data is the results of a chemical analysis of wines grown in the same region in Italy by three different cultivators.\n",
        "\n",
        "#### Loading the data set\n",
        "\n",
        "The datasets are loaded into a dictionary-like structure, [sklearn.utils.Bunch](https://scikit-learn.org/stable/modules/generated/sklearn.utils.Bunch.html). We use a set of dedicated *load* functions to load the data sets."
      ]
    },
    {
      "cell_type": "code",
      "execution_count": null,
      "metadata": {
        "id": "VqoPSt-Wirfz"
      },
      "outputs": [],
      "source": [
        "from sklearn.datasets import load_iris, load_breast_cancer, load_digits, load_diabetes, load_linnerud, load_wine\n",
        "\n",
        "iris_data_set = load_iris()\n",
        "breast_cancer_data_set = load_breast_cancer()\n",
        "digits_data_set = load_digits()\n",
        "diabetes_data_set = load_diabetes()\n",
        "linnerud_data_set = load_linnerud()\n",
        "wine_data_set = load_wine()\n"
      ]
    },
    {
      "cell_type": "markdown",
      "metadata": {
        "id": "GgIi6h8Airf0"
      },
      "source": [
        "We can obtain a description of each of the data sets by using the DESCR field."
      ]
    },
    {
      "cell_type": "code",
      "execution_count": null,
      "metadata": {
        "id": "cavvIF1iirf0"
      },
      "outputs": [],
      "source": [
        "print(iris_data_set.DESCR)"
      ]
    },
    {
      "cell_type": "markdown",
      "metadata": {
        "id": "40dZNWN0irf0"
      },
      "source": [
        "Each data set consists of a list of entries. Each entry is comprised of a set of features. Each feature has a name, which corresponds to its real source. We can obtain the names of features by using the feature_names field."
      ]
    },
    {
      "cell_type": "code",
      "execution_count": null,
      "metadata": {
        "id": "Gb0P6Cyrirf0"
      },
      "outputs": [],
      "source": [
        "iris_data_set.feature_names"
      ]
    },
    {
      "cell_type": "markdown",
      "metadata": {
        "id": "9xYd4Ic7irf0"
      },
      "source": [
        "Data in each of the data sets is organized as a numpy array (more on that next week). We can get to it by using the data field."
      ]
    },
    {
      "cell_type": "code",
      "execution_count": null,
      "metadata": {
        "id": "sLAvbuKuirf0"
      },
      "outputs": [],
      "source": [
        "print(type(iris_data_set.data))\n",
        "iris_data_set.data[:5]"
      ]
    },
    {
      "cell_type": "markdown",
      "metadata": {
        "id": "VLzGBHo2irf1"
      },
      "source": [
        "Each entry corresponds to a certain class, we can obtain names of the classes with use of the target_names field, and the list of classes corresponding to each entry with the target field."
      ]
    },
    {
      "cell_type": "code",
      "execution_count": null,
      "metadata": {
        "id": "o2ycJ64Virf1"
      },
      "outputs": [],
      "source": [
        "print(iris_data_set.target_names)\n",
        "print(iris_data_set.target)\n",
        "\n"
      ]
    },
    {
      "cell_type": "markdown",
      "metadata": {
        "id": "PNRGkVuWirf1"
      },
      "source": [
        "### Homework 1.\n",
        "\n",
        "Write a function, which processes a sci-kit learn Bunch object. The function is expected to prepare a the data set description. The description has the following format:\n",
        "\n",
        "  `Dataset data_set_name.`\n",
        "\n",
        "  `Number of samples: NNN`\n",
        "\n",
        "  `Number of classes: NNN`\n",
        "\n",
        "  `  Number of samples in class target_name1: NNN`\n",
        "\n",
        "  `  Number of samples in class target_name2: NNN`\n",
        "\n",
        "  `  ...`\n",
        "\n",
        "  `Number of features: NNN`\n",
        "\n",
        "  `  Average value of feature feature_name1: NNN`\n",
        "\n",
        "  `  Standard deviation of feature feature_name1: NNN`\n",
        "\n",
        "  `  Average value of feature feature_name2: NNN`\n",
        "\n",
        "  `  Standard deviation of feature feature_name2: NNN`\n",
        "\n",
        "  `  Average value of feature feature_name3: NNN`\n",
        "\n",
        "  `  Standard deviation of feature feature_name3: NNN`\n",
        "  \n",
        "  `  ...`\n",
        "    "
      ]
    },
    {
      "cell_type": "code",
      "execution_count": null,
      "metadata": {
        "id": "6xJqR85pirf1"
      },
      "outputs": [],
      "source": [
        "from sklearn.utils import Bunch\n",
        "import numpy as np\n",
        "def prepare_dataset_description(data_set : Bunch, data_set_name):\n",
        "    pass\n",
        "print(prepare_dataset_description(iris_data_set, 'Iris'))\n",
        "print(prepare_dataset_description(breast_cancer_data_set, 'BC'))\n",
        "print(prepare_dataset_description(digits_data_set, 'Digits'))\n",
        "print(prepare_dataset_description(diabetes_data_set, 'Diabetes'))\n",
        "print(prepare_dataset_description(linnerud_data_set, 'Linnerud'))\n",
        "print(prepare_dataset_description(wine_data_set, 'Wine'))\n"
      ]
    }
  ],
  "metadata": {
    "kernelspec": {
      "display_name": "Python 3",
      "language": "python",
      "name": "python3"
    },
    "language_info": {
      "codemirror_mode": {
        "name": "ipython",
        "version": 3
      },
      "file_extension": ".py",
      "mimetype": "text/x-python",
      "name": "python",
      "nbconvert_exporter": "python",
      "pygments_lexer": "ipython3",
      "version": "3.7.4"
    },
    "orig_nbformat": 4,
    "vscode": {
      "interpreter": {
        "hash": "0cc2e28e15ec3d399ff2fa987eff54814158b78b1ea93d5ce0744d3e4b658fec"
      }
    },
    "colab": {
      "provenance": [],
      "include_colab_link": true
    }
  },
  "nbformat": 4,
  "nbformat_minor": 0
}